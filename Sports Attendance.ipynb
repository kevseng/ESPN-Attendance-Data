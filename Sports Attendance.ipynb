{
 "cells": [
  {
   "cell_type": "code",
   "execution_count": 1,
   "metadata": {},
   "outputs": [],
   "source": [
    "import requests\n",
    "from bs4 import BeautifulSoup as bs\n",
    "import urllib\n",
    "import pandas as pd\n",
    "import numpy as np\n",
    "from urllib.request import urlopen"
   ]
  },
  {
   "cell_type": "code",
   "execution_count": 2,
   "metadata": {},
   "outputs": [],
   "source": [
    "team = []\n",
    "avg = []\n",
    "year = []\n",
    "league = []"
   ]
  },
  {
   "cell_type": "code",
   "execution_count": 3,
   "metadata": {},
   "outputs": [],
   "source": [
    "#Attendance for Major North American Professional Sports\n",
    "sports = ['nfl','mlb','nba','nhl']\n",
    "\n",
    "for s in sports:\n",
    "    for i in range (2009,2020):\n",
    "        url= \"http://www.espn.com/\" + str(s) + \"/attendance/_/year/\"+str(i)\n",
    "        page = urlopen(url)\n",
    "        soup = bs(page) \n",
    "        table = soup.find('table')\n",
    "        for row in table.findAll(\"tr\",{\"class\":[\"oddrow\",\"evenrow\"]}):\n",
    "                col=row.findAll('td')\n",
    "\n",
    "                team.append(col[1].string)\n",
    "                avg.append(col[4].string)\n",
    "                year.append(str(i))\n",
    "                league.append(soup.find(\"span\",{\"class\":\"link-text\"}).text)"
   ]
  },
  {
   "cell_type": "code",
   "execution_count": 4,
   "metadata": {},
   "outputs": [],
   "source": [
    "sports_dict = {'Team': team,\n",
    "         'Average Attendance': avg,\n",
    "         'Year': year,\n",
    "         'League': league}"
   ]
  },
  {
   "cell_type": "code",
   "execution_count": 5,
   "metadata": {},
   "outputs": [],
   "source": [
    "df = pd.DataFrame.from_dict(sports_dict)"
   ]
  },
  {
   "cell_type": "code",
   "execution_count": 6,
   "metadata": {},
   "outputs": [
    {
     "data": {
      "text/html": [
       "<div>\n",
       "<style scoped>\n",
       "    .dataframe tbody tr th:only-of-type {\n",
       "        vertical-align: middle;\n",
       "    }\n",
       "\n",
       "    .dataframe tbody tr th {\n",
       "        vertical-align: top;\n",
       "    }\n",
       "\n",
       "    .dataframe thead th {\n",
       "        text-align: right;\n",
       "    }\n",
       "</style>\n",
       "<table border=\"1\" class=\"dataframe\">\n",
       "  <thead>\n",
       "    <tr style=\"text-align: right;\">\n",
       "      <th></th>\n",
       "      <th>Team</th>\n",
       "      <th>Average Attendance</th>\n",
       "      <th>Year</th>\n",
       "      <th>League</th>\n",
       "    </tr>\n",
       "  </thead>\n",
       "  <tbody>\n",
       "    <tr>\n",
       "      <th>0</th>\n",
       "      <td>Dallas</td>\n",
       "      <td>89,756</td>\n",
       "      <td>2009</td>\n",
       "      <td>NFL</td>\n",
       "    </tr>\n",
       "    <tr>\n",
       "      <th>1</th>\n",
       "      <td>Washington</td>\n",
       "      <td>84,794</td>\n",
       "      <td>2009</td>\n",
       "      <td>NFL</td>\n",
       "    </tr>\n",
       "    <tr>\n",
       "      <th>2</th>\n",
       "      <td>NY Giants</td>\n",
       "      <td>78,701</td>\n",
       "      <td>2009</td>\n",
       "      <td>NFL</td>\n",
       "    </tr>\n",
       "    <tr>\n",
       "      <th>3</th>\n",
       "      <td>NY Jets</td>\n",
       "      <td>77,052</td>\n",
       "      <td>2009</td>\n",
       "      <td>NFL</td>\n",
       "    </tr>\n",
       "    <tr>\n",
       "      <th>4</th>\n",
       "      <td>Denver</td>\n",
       "      <td>75,116</td>\n",
       "      <td>2009</td>\n",
       "      <td>NFL</td>\n",
       "    </tr>\n",
       "    <tr>\n",
       "      <th>...</th>\n",
       "      <td>...</td>\n",
       "      <td>...</td>\n",
       "      <td>...</td>\n",
       "      <td>...</td>\n",
       "    </tr>\n",
       "    <tr>\n",
       "      <th>1357</th>\n",
       "      <td>Ottawa</td>\n",
       "      <td>14,553</td>\n",
       "      <td>2019</td>\n",
       "      <td>NHL</td>\n",
       "    </tr>\n",
       "    <tr>\n",
       "      <th>1358</th>\n",
       "      <td>Carolina</td>\n",
       "      <td>14,322</td>\n",
       "      <td>2019</td>\n",
       "      <td>NHL</td>\n",
       "    </tr>\n",
       "    <tr>\n",
       "      <th>1359</th>\n",
       "      <td>Arizona</td>\n",
       "      <td>13,989</td>\n",
       "      <td>2019</td>\n",
       "      <td>NHL</td>\n",
       "    </tr>\n",
       "    <tr>\n",
       "      <th>1360</th>\n",
       "      <td>Florida</td>\n",
       "      <td>13,261</td>\n",
       "      <td>2019</td>\n",
       "      <td>NHL</td>\n",
       "    </tr>\n",
       "    <tr>\n",
       "      <th>1361</th>\n",
       "      <td>NY Islanders</td>\n",
       "      <td>12,442</td>\n",
       "      <td>2019</td>\n",
       "      <td>NHL</td>\n",
       "    </tr>\n",
       "  </tbody>\n",
       "</table>\n",
       "<p>1362 rows × 4 columns</p>\n",
       "</div>"
      ],
      "text/plain": [
       "              Team Average Attendance  Year League\n",
       "0           Dallas             89,756  2009    NFL\n",
       "1       Washington             84,794  2009    NFL\n",
       "2        NY Giants             78,701  2009    NFL\n",
       "3          NY Jets             77,052  2009    NFL\n",
       "4           Denver             75,116  2009    NFL\n",
       "...            ...                ...   ...    ...\n",
       "1357        Ottawa             14,553  2019    NHL\n",
       "1358      Carolina             14,322  2019    NHL\n",
       "1359       Arizona             13,989  2019    NHL\n",
       "1360       Florida             13,261  2019    NHL\n",
       "1361  NY Islanders             12,442  2019    NHL\n",
       "\n",
       "[1362 rows x 4 columns]"
      ]
     },
     "execution_count": 6,
     "metadata": {},
     "output_type": "execute_result"
    }
   ],
   "source": [
    "df"
   ]
  },
  {
   "cell_type": "code",
   "execution_count": 8,
   "metadata": {},
   "outputs": [],
   "source": [
    "export_excel = df.to_excel (r'C:\\Users\\kevin\\OneDrive\\Documents\\Personal Projects\\Football Market Research\\newavg_att.xlsx', index = None, header=True)"
   ]
  }
 ],
 "metadata": {
  "kernelspec": {
   "display_name": "Python 3",
   "language": "python",
   "name": "python3"
  },
  "language_info": {
   "codemirror_mode": {
    "name": "ipython",
    "version": 3
   },
   "file_extension": ".py",
   "mimetype": "text/x-python",
   "name": "python",
   "nbconvert_exporter": "python",
   "pygments_lexer": "ipython3",
   "version": "3.7.3"
  }
 },
 "nbformat": 4,
 "nbformat_minor": 2
}
